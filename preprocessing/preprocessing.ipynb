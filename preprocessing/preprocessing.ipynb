{
 "cells": [
  {
   "cell_type": "markdown",
   "id": "9815c0e3",
   "metadata": {},
   "source": [
    "## Učitavanje podataka"
   ]
  },
  {
   "cell_type": "code",
   "execution_count": null,
   "id": "45c47050",
   "metadata": {},
   "outputs": [],
   "source": [
    "import pandas as pd\n",
    "\n",
    "# Učitavanje podataka\n",
    "df = pd.read_csv(r\"C:\\Users\\Lenovo PC\\Desktop\\detekcija_prevara_u_transakcijama\\data\\creditcard.csv\")\n",
    "\n",
    "# Pregled prvih nekoliko redova\n",
    "df.head()"
   ]
  },
  {
   "cell_type": "markdown",
   "id": "34a097ca",
   "metadata": {},
   "source": [
    "## Statistika o podacima"
   ]
  },
  {
   "cell_type": "code",
   "execution_count": null,
   "id": "383f4e76",
   "metadata": {},
   "outputs": [],
   "source": [
    "df.describe()"
   ]
  },
  {
   "cell_type": "markdown",
   "id": "d7ae9f89",
   "metadata": {},
   "source": [
    "## Provjera nedostajućih podataka"
   ]
  },
  {
   "cell_type": "code",
   "execution_count": null,
   "id": "b82666f5",
   "metadata": {},
   "outputs": [],
   "source": [
    "df.isnull().sum()"
   ]
  },
  {
   "cell_type": "markdown",
   "id": "42c8ff51",
   "metadata": {},
   "source": [
    "Nema null vrijednosti, pa nije potrebno uklanjati nešto od podataka."
   ]
  },
  {
   "cell_type": "markdown",
   "id": "6a068e44",
   "metadata": {},
   "source": [
    "## Provjera tipova podataka"
   ]
  },
  {
   "cell_type": "code",
   "execution_count": null,
   "id": "002bfe6c",
   "metadata": {},
   "outputs": [],
   "source": [
    "print(df.dtypes)"
   ]
  },
  {
   "cell_type": "markdown",
   "id": "933f9e45",
   "metadata": {},
   "source": [
    "Svi podaci su numerički, osim varijable 'Time' koja predstavlja vrijeme transakcije u sekundama od prvog zapisa. Varijabla 'Class' je binarna i predstavlja da li je transakcija prevara (1) ili nije (0). Sve ostale varijable su rezultati PCA transformacije i predstavljaju različite karakteristike transakcija."
   ]
  },
  {
   "cell_type": "markdown",
   "id": "f539f1b7",
   "metadata": {},
   "source": [
    "## Ispis svih kolona"
   ]
  },
  {
   "cell_type": "code",
   "execution_count": null,
   "id": "0c3f903b",
   "metadata": {},
   "outputs": [],
   "source": [
    "df.columns"
   ]
  },
  {
   "cell_type": "markdown",
   "id": "b269a11f",
   "metadata": {},
   "source": [
    "## Provjera da li su podaci balansirani"
   ]
  },
  {
   "cell_type": "code",
   "execution_count": null,
   "id": "01cd1543",
   "metadata": {},
   "outputs": [],
   "source": [
    "df['Class'].value_counts()"
   ]
  },
  {
   "cell_type": "markdown",
   "id": "e353fb43",
   "metadata": {},
   "source": [
    "0 → 284315 transakcija su označene kao legitimne.\n",
    "1 → 492 transakcije su označene kao prevare."
   ]
  },
  {
   "cell_type": "markdown",
   "id": "205c23b7",
   "metadata": {},
   "source": [
    "## Vizualizacija distribucije podataka"
   ]
  },
  {
   "cell_type": "code",
   "execution_count": null,
   "id": "13c96540",
   "metadata": {},
   "outputs": [],
   "source": [
    "import seaborn as sns\n",
    "import matplotlib.pyplot as plt\n",
    "\n",
    "sns.countplot(x='Class', data=df)\n",
    "plt.title('Distribucija klasa (0 = legitimno, 1 = prevara)')\n",
    "plt.show()"
   ]
  },
  {
   "cell_type": "markdown",
   "id": "add25032",
   "metadata": {},
   "source": [
    "## Outlieri"
   ]
  },
  {
   "cell_type": "code",
   "execution_count": null,
   "id": "d9956418",
   "metadata": {},
   "outputs": [],
   "source": [
    "sns.boxplot(x=df['Amount'])\n",
    "plt.show()"
   ]
  }
 ],
 "metadata": {
  "kernelspec": {
   "display_name": ".venv",
   "language": "python",
   "name": "python3"
  },
  "language_info": {
   "codemirror_mode": {
    "name": "ipython",
    "version": 3
   },
   "file_extension": ".py",
   "mimetype": "text/x-python",
   "name": "python",
   "nbconvert_exporter": "python",
   "pygments_lexer": "ipython3",
   "version": "3.12.0"
  }
 },
 "nbformat": 4,
 "nbformat_minor": 5
}
