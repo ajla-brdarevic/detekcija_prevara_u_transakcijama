{
 "cells": [
  {
   "cell_type": "markdown",
   "id": "2c2221e9",
   "metadata": {},
   "source": [
    "## Učitavanje procesiranih podataka"
   ]
  },
  {
   "cell_type": "code",
   "execution_count": 1,
   "id": "e1954e42",
   "metadata": {},
   "outputs": [],
   "source": [
    "import pandas as pd\n",
    "\n",
    "df = pd.read_pickle(r\"C:\\Users\\Lenovo PC\\Desktop\\detekcija_prevara_u_transakcijama\\data\\processed_data.pkl\")"
   ]
  }
 ],
 "metadata": {
  "kernelspec": {
   "display_name": ".venv",
   "language": "python",
   "name": "python3"
  },
  "language_info": {
   "codemirror_mode": {
    "name": "ipython",
    "version": 3
   },
   "file_extension": ".py",
   "mimetype": "text/x-python",
   "name": "python",
   "nbconvert_exporter": "python",
   "pygments_lexer": "ipython3",
   "version": "3.12.0"
  }
 },
 "nbformat": 4,
 "nbformat_minor": 5
}
